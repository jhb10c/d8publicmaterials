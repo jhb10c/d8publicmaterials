{
 "cells": [
  {
   "cell_type": "markdown",
   "metadata": {},
   "source": [
    "# Homework 5: Applying Functions"
   ]
  },
  {
   "cell_type": "markdown",
   "metadata": {},
   "source": [
    "Please complete this notebook by filling in the cells provided. \n",
    "\n",
    " **Throughout this homework and all future ones, please be sure to not re-assign variables throughout the notebook! For example, if you use `max_temperature` in your answer to one question, do not reassign it later on. Moreover, please be sure to only put your written answers in the provided cells.**"
   ]
  },
  {
   "cell_type": "code",
   "execution_count": null,
   "metadata": {},
   "outputs": [],
   "source": [
    "import otter\n",
    "grader = otter.Notebook()\n",
    "\n",
    "your_name=''"
   ]
  },
  {
   "cell_type": "code",
   "execution_count": null,
   "metadata": {},
   "outputs": [],
   "source": [
    "# Don't change this cell; just run it. \n",
    "\n",
    "import numpy as np\n",
    "from datascience import *\n",
    "\n",
    "# These lines do some fancy plotting magic.\n",
    "import matplotlib\n",
    "%matplotlib inline\n",
    "import matplotlib.pyplot as plt\n",
    "plt.style.use('fivethirtyeight')\n",
    "import warnings\n",
    "warnings.simplefilter('ignore', FutureWarning)\n"
   ]
  },
  {
   "cell_type": "markdown",
   "metadata": {},
   "source": [
    "## 1. 2019 Georgia Football Season\n"
   ]
  },
  {
   "cell_type": "markdown",
   "metadata": {},
   "source": [
    "John is trying to analyze how well the UGA football team performed in the 2019 season. A football game is divided into four periods, called quarters. The number of points UGA scored in each quarter, and the number of points their opponent scored in each quarter are stored in a table called `uga_fb.csv`.\n",
    "\n",
    " Note only the South Carolina game went into overtime. For ease of use we added the overtime scores to the fourth quarter scores."
   ]
  },
  {
   "cell_type": "code",
   "execution_count": null,
   "metadata": {
    "deletable": false,
    "editable": false
   },
   "outputs": [],
   "source": [
    "# Just run this cell\n",
    "# Read in the uga_fb csv file\n",
    "games = Table().read_table(\"uga_fb.csv\")\n",
    "games.show()"
   ]
  },
  {
   "cell_type": "markdown",
   "metadata": {
    "deletable": false,
    "editable": false
   },
   "source": [
    "Let's start by finding the total points each team scored in a game.\n",
    "\n",
    "**Question 1.** Write a function called `sum_scores`.  It should take four arguments, where each argument is the team's score for that quarter. It should return the team's total score for that game.\n",
    "\n",
    "\n",
    "<!--\n",
    "BEGIN QUESTION\n",
    "name: q1_1\n",
    "manual: false\n",
    "-->"
   ]
  },
  {
   "cell_type": "code",
   "execution_count": null,
   "metadata": {},
   "outputs": [],
   "source": [
    "def sum_scores(...):\n",
    "'''Returns the total score calculated by adding up the score of each quarter'''\n",
    "...\n",
    "\n",
    "sum_scores(14, 7, 3, 0) #DO NOT CHANGE THIS LINE\n"
   ]
  },
  {
   "cell_type": "code",
   "execution_count": null,
   "metadata": {},
   "outputs": [],
   "source": [
    "grader.check(\"q1_1\")"
   ]
  },
  {
   "cell_type": "markdown",
   "metadata": {
    "deletable": false,
    "editable": false
   },
   "source": [
    "**Question 2.** Create a new table `final_scores` with three columns in this *specific* order: `Opponent`, `UGA Score`, `Opponent Score`. You will have to create the `UGA Score` and `Opponent Score` columns. Use the function `sum_scores` you just defined in the previous question for this problem.\n",
    "\n",
    "*Hint:* If you want to apply a function that takes in multiple arguments, you can pass multiple column names as arguments in `tbl.apply()`. The column values will be passed into the corresponding arguments of the function. Take a look at the python reference for syntax.\n",
    "\n",
    "*Tip:* If you’re running into issues creating final_scores, check that `uga_scores` and `opponent_scores` output what you want. \n",
    "\n",
    "\n",
    "<!--\n",
    "BEGIN QUESTION\n",
    "name: q1_2\n",
    "manual: false\n",
    "-->"
   ]
  },
  {
   "cell_type": "code",
   "execution_count": null,
   "metadata": {},
   "outputs": [],
   "source": [
    "uga_scores = ...\n",
    "opponent_scores = ...\n",
    "final_scores = ...\n",
    "final_scores"
   ]
  },
  {
   "cell_type": "code",
   "execution_count": null,
   "metadata": {},
   "outputs": [],
   "source": [
    "grader.check(\"q1_2\")"
   ]
  },
  {
   "cell_type": "markdown",
   "metadata": {},
   "source": [
    "We can get specific row objects from a table. You can use `tbl.row(n)` to get the `n`th row of a table. `row.item(\"column_name\")` will allow you to select the element that corresponds to `column_name` in a particular row. Here's an example:"
   ]
  },
  {
   "cell_type": "code",
   "execution_count": null,
   "metadata": {
    "deletable": false,
    "editable": false
   },
   "outputs": [],
   "source": [
    "# Just run this cell\n",
    "# We got the Axe!\n",
    "games.row(10)"
   ]
  },
  {
   "cell_type": "code",
   "execution_count": null,
   "metadata": {
    "deletable": false,
    "editable": false
   },
   "outputs": [],
   "source": [
    "# Just run this cell\n",
    "games.row(10).item(\"UGA 4Q\")"
   ]
  },
  {
   "cell_type": "markdown",
   "metadata": {
    "deletable": false,
    "editable": false
   },
   "source": [
    "**Question 3.** We want to see for a particular game whether or not UGA won. Write a function called `did_uga_win`.  It should take one argument: a row object from the `final_scores` table. It should return either `True` if UGA's score was greater than the Opponent's score, and `False` otherwise.\n",
    "\n",
    "\n",
    "<!--\n",
    "BEGIN QUESTION\n",
    "name: q1_3\n",
    "manual: false\n",
    "-->"
   ]
  },
  {
   "cell_type": "code",
   "execution_count": null,
   "metadata": {},
   "outputs": [],
   "source": [
    "def did_uga_win(row):\n",
    "    ..."
   ]
  },
  {
   "cell_type": "code",
   "execution_count": null,
   "metadata": {},
   "outputs": [],
   "source": [
    "grader.check(\"q1_3\")"
   ]
  },
  {
   "cell_type": "markdown",
   "metadata": {
    "deletable": false,
    "editable": false
   },
   "source": [
    "**Question 4.** Shoumik wants to see how UGA did against every opponent during the 2019 season. Using the `final_scores` table, assign `results` to an array of `True` and `False` values that correspond to whether or not UGA won. Add the `results` array to the `final_scores` table, and assign this to `final_scores_with_results`. Then, respectively assign the number of wins and losses UGA had to `uga_wins` and `uga_losses`.\n",
    "\n",
    "*Hint*: When you only pass a function name and no column labels through `tbl.apply()`, the function gets applied to every row in `tbl`\n",
    "\n",
    "\n",
    "<!--\n",
    "BEGIN QUESTION\n",
    "name: q1_4\n",
    "manual: false\n",
    "-->"
   ]
  },
  {
   "cell_type": "code",
   "execution_count": null,
   "metadata": {},
   "outputs": [],
   "source": [
    "results = ...\n",
    "final_scores_with_results = ...\n",
    "uga_wins = ...\n",
    "uga_losses = ...\n",
    "\n",
    "# Don't delete or edit the following line:\n",
    "print(f\"In the 2019 Season, UGA Football won {uga_wins} games and lost {uga_losses} games. Go Dawgs!\")"
   ]
  },
  {
   "cell_type": "code",
   "execution_count": null,
   "metadata": {},
   "outputs": [],
   "source": [
    "grader.check(\"q1_4\")"
   ]
  },
  {
   "cell_type": "code",
   "execution_count": null,
   "metadata": {},
   "outputs": [],
   "source": [
    "#Gradeing Here\n",
    "import numpy as np\n",
    "\n",
    "def Merge(dict1, dict2):\n",
    "    res = {**dict1, **dict2}\n",
    "    return res\n",
    "\n",
    "def lrader(section,start,ending):\n",
    "    dictionarygrade= {}\n",
    "    for i in np.arange(start,ending):\n",
    "        question=\"q\"+str(section)+\"_\"+str(i)\n",
    "        total = len(grader.check(question).test_case_results)\n",
    "        points = 0\n",
    "        parts = []\n",
    "        for j in grader.check(question).test_case_results:\n",
    "            if j[-1] == 1:\n",
    "                points = points +1\n",
    "                parts.append(1)\n",
    "            else:\n",
    "                parts.append(0)\n",
    "        totalpoints = points/total\n",
    "        dict\n",
    "        dictionarygrade[question] = parts\n",
    "    return dictionarygrade\n",
    "\n",
    "def feedback(dgrade):\n",
    "    for i in dgrade.keys():\n",
    "        print(grader.check(i))\n",
    "\n",
    "\n",
    "\n",
    "def GradeandRubric(z):\n",
    "    score =0 \n",
    "    for i in z.keys():\n",
    "        total = len(z[i])\n",
    "        hold = 0\n",
    "        for j in z[i]:\n",
    "            if j ==1:\n",
    "                hold =hold+1\n",
    "        hold1 = hold/total\n",
    "        score = score + hold1\n",
    "    grade = score /len(z.keys())\n",
    "    return [your_name,grade,z]\n",
    "\n",
    "a=lrader(1,1,5)\n",
    "\n",
    "\n",
    "\n",
    "\n",
    "\n",
    "####################\n",
    "addthis=GradeandRubric(a)\n",
    "print(addthis)\n",
    "####################"
   ]
  },
  {
   "cell_type": "code",
   "execution_count": null,
   "metadata": {},
   "outputs": [],
   "source": []
  }
 ],
 "metadata": {
  "kernelspec": {
   "display_name": "Python 3",
   "language": "python",
   "name": "python3"
  },
  "language_info": {
   "codemirror_mode": {
    "name": "ipython",
    "version": 3
   },
   "file_extension": ".py",
   "mimetype": "text/x-python",
   "name": "python",
   "nbconvert_exporter": "python",
   "pygments_lexer": "ipython3",
   "version": "3.8.5"
  }
 },
 "nbformat": 4,
 "nbformat_minor": 1
}

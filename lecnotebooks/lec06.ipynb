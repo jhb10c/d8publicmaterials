{
 "cells": [
  {
   "cell_type": "code",
   "execution_count": 21,
   "metadata": {},
   "outputs": [],
   "source": [
    "from datascience import *\n",
    "import numpy as np\n",
    "\n",
    "%matplotlib inline\n",
    "import matplotlib.pyplot as plots\n",
    "plots.style.use('fivethirtyeight')"
   ]
  },
  {
   "cell_type": "markdown",
   "metadata": {},
   "source": [
    "## Lecture 6"
   ]
  },
  {
   "cell_type": "markdown",
   "metadata": {},
   "source": [
    "## Table Review: Welcome Survey"
   ]
  },
  {
   "cell_type": "code",
   "execution_count": 22,
   "metadata": {},
   "outputs": [
    {
     "data": {
      "text/plain": [
       "('Extraversion',\n",
       " 'Number of textees',\n",
       " 'Hours of sleep',\n",
       " 'Handedness',\n",
       " 'Pant leg',\n",
       " 'Sleep position')"
      ]
     },
     "execution_count": 22,
     "metadata": {},
     "output_type": "execute_result"
    }
   ],
   "source": [
    "# Here is a table that contains the answers to a survey\n",
    "\n",
    "welcome = Table.read_table('welcome_survey_v1.csv')\n",
    "welcome.labels"
   ]
  },
  {
   "cell_type": "code",
   "execution_count": 23,
   "metadata": {},
   "outputs": [
    {
     "data": {
      "text/plain": [
       "7.0687641296156745"
      ]
     },
     "execution_count": 23,
     "metadata": {},
     "output_type": "execute_result"
    }
   ],
   "source": [
    "# On average, how long do the surveyees sleep?\n",
    "np.average(welcome.column(\"Hours of sleep\"))"
   ]
  },
  {
   "cell_type": "code",
   "execution_count": 24,
   "metadata": {},
   "outputs": [
    {
     "data": {
      "text/plain": [
       "0.23888470233609646"
      ]
     },
     "execution_count": 24,
     "metadata": {},
     "output_type": "execute_result"
    }
   ],
   "source": [
    "# What percentage of students are extremely extreverted? (Evtraversion => 8)\n",
    "\n",
    "e8=welcome.where('Extraversion', 8).num_rows\n",
    "e9=welcome.where('Extraversion', 9).num_rows\n",
    "e10=welcome.where('Extraversion', 10).num_rows\n",
    "\n",
    "(e8+e9+e10)/welcome.num_rows\n"
   ]
  },
  {
   "cell_type": "code",
   "execution_count": 25,
   "metadata": {
    "scrolled": true
   },
   "outputs": [
    {
     "data": {
      "text/html": [
       "<table border=\"1\" class=\"dataframe\">\n",
       "    <thead>\n",
       "        <tr>\n",
       "            <th>Hours</th> <th>Position</th>\n",
       "        </tr>\n",
       "    </thead>\n",
       "    <tbody>\n",
       "        <tr>\n",
       "            <td>4    </td> <td>On your back</td>\n",
       "        </tr>\n",
       "        <tr>\n",
       "            <td>7    </td> <td>On your back</td>\n",
       "        </tr>\n",
       "        <tr>\n",
       "            <td>7    </td> <td>On your back</td>\n",
       "        </tr>\n",
       "    </tbody>\n",
       "</table>\n",
       "<p>... (1324 rows omitted)</p>"
      ],
      "text/plain": [
       "<IPython.core.display.HTML object>"
      ]
     },
     "metadata": {},
     "output_type": "display_data"
    }
   ],
   "source": [
    "# Create a new table with only the two sleep-related columns, \n",
    "# with names 'Hours' and 'Position'\n",
    "two_col = welcome.select('Hours of sleep', 'Sleep position')\n",
    "sleep = two_col.relabeled(0, 'Hours').relabeled(1, 'Position')\n",
    "sleep.show(3)"
   ]
  },
  {
   "cell_type": "markdown",
   "metadata": {},
   "source": [
    "## Discussion Question: NBA Salaries"
   ]
  },
  {
   "cell_type": "code",
   "execution_count": 26,
   "metadata": {},
   "outputs": [
    {
     "data": {
      "text/html": [
       "<table border=\"1\" class=\"dataframe\">\n",
       "    <thead>\n",
       "        <tr>\n",
       "            <th>PLAYER</th> <th>POSITION</th> <th>SALARY</th>\n",
       "        </tr>\n",
       "    </thead>\n",
       "    <tbody>\n",
       "        <tr>\n",
       "            <td>Paul Millsap  </td> <td>PF      </td> <td>18.6717</td>\n",
       "        </tr>\n",
       "        <tr>\n",
       "            <td>Al Horford    </td> <td>C       </td> <td>12     </td>\n",
       "        </tr>\n",
       "        <tr>\n",
       "            <td>Tiago Splitter</td> <td>C       </td> <td>9.75625</td>\n",
       "        </tr>\n",
       "    </tbody>\n",
       "</table>\n",
       "<p>... (414 rows omitted)</p>"
      ],
      "text/plain": [
       "<IPython.core.display.HTML object>"
      ]
     },
     "metadata": {},
     "output_type": "display_data"
    }
   ],
   "source": [
    "nba = Table.read_table('nba_salaries.csv')\n",
    "nba = nba.relabeled(3, 'SALARY').drop('TEAM')\n",
    "nba.show(3)"
   ]
  },
  {
   "cell_type": "code",
   "execution_count": 27,
   "metadata": {},
   "outputs": [],
   "source": [
    "# Question (a) Create an array containing the names of all point  guards (PG) \n",
    "#who make more than $15M/year\n",
    "\n"
   ]
  },
  {
   "cell_type": "code",
   "execution_count": 28,
   "metadata": {},
   "outputs": [],
   "source": [
    "# Question (b) After evaluating these two expressions in order, \n",
    "#what's the result of the second one?\n",
    "\n",
    "#nba.drop('POSITION')  \n",
    "#nba.num_columns\n",
    "#\n",
    "\n"
   ]
  },
  {
   "cell_type": "markdown",
   "metadata": {},
   "source": [
    "## Census ##"
   ]
  },
  {
   "cell_type": "code",
   "execution_count": 29,
   "metadata": {},
   "outputs": [
    {
     "data": {
      "text/html": [
       "<table border=\"1\" class=\"dataframe\">\n",
       "    <thead>\n",
       "        <tr>\n",
       "            <th>SEX</th> <th>AGE</th> <th>CENSUS2010POP</th> <th>ESTIMATESBASE2010</th> <th>POPESTIMATE2010</th> <th>POPESTIMATE2011</th> <th>POPESTIMATE2012</th> <th>POPESTIMATE2013</th> <th>POPESTIMATE2014</th>\n",
       "        </tr>\n",
       "    </thead>\n",
       "    <tbody>\n",
       "        <tr>\n",
       "            <td>0   </td> <td>0   </td> <td>3944153      </td> <td>3944160          </td> <td>3951330        </td> <td>3963071        </td> <td>3926665        </td> <td>3945610        </td> <td>3948350        </td>\n",
       "        </tr>\n",
       "        <tr>\n",
       "            <td>0   </td> <td>1   </td> <td>3978070      </td> <td>3978090          </td> <td>3957888        </td> <td>3966510        </td> <td>3978006        </td> <td>3943077        </td> <td>3962123        </td>\n",
       "        </tr>\n",
       "        <tr>\n",
       "            <td>0   </td> <td>2   </td> <td>4096929      </td> <td>4096939          </td> <td>4090862        </td> <td>3971573        </td> <td>3979952        </td> <td>3992690        </td> <td>3957772        </td>\n",
       "        </tr>\n",
       "        <tr>\n",
       "            <td>0   </td> <td>3   </td> <td>4119040      </td> <td>4119051          </td> <td>4111920        </td> <td>4102501        </td> <td>3983049        </td> <td>3992425        </td> <td>4005190        </td>\n",
       "        </tr>\n",
       "        <tr>\n",
       "            <td>0   </td> <td>4   </td> <td>4063170      </td> <td>4063186          </td> <td>4077552        </td> <td>4122303        </td> <td>4112638        </td> <td>3994047        </td> <td>4003448        </td>\n",
       "        </tr>\n",
       "        <tr>\n",
       "            <td>0   </td> <td>5   </td> <td>4056858      </td> <td>4056872          </td> <td>4064653        </td> <td>4087713        </td> <td>4132210        </td> <td>4123408        </td> <td>4004858        </td>\n",
       "        </tr>\n",
       "        <tr>\n",
       "            <td>0   </td> <td>6   </td> <td>4066381      </td> <td>4066412          </td> <td>4073013        </td> <td>4074979        </td> <td>4097780        </td> <td>4143094        </td> <td>4134352        </td>\n",
       "        </tr>\n",
       "        <tr>\n",
       "            <td>0   </td> <td>7   </td> <td>4030579      </td> <td>4030594          </td> <td>4043047        </td> <td>4083240        </td> <td>4084964        </td> <td>4108615        </td> <td>4154000        </td>\n",
       "        </tr>\n",
       "        <tr>\n",
       "            <td>0   </td> <td>8   </td> <td>4046486      </td> <td>4046497          </td> <td>4025604        </td> <td>4053206        </td> <td>4093213        </td> <td>4095827        </td> <td>4119524        </td>\n",
       "        </tr>\n",
       "        <tr>\n",
       "            <td>0   </td> <td>9   </td> <td>4148353      </td> <td>4148369          </td> <td>4125415        </td> <td>4035769        </td> <td>4063193        </td> <td>4104133        </td> <td>4106832        </td>\n",
       "        </tr>\n",
       "    </tbody>\n",
       "</table>\n",
       "<p>... (296 rows omitted)</p>"
      ],
      "text/plain": [
       "SEX  | AGE  | CENSUS2010POP | ESTIMATESBASE2010 | POPESTIMATE2010 | POPESTIMATE2011 | POPESTIMATE2012 | POPESTIMATE2013 | POPESTIMATE2014\n",
       "0    | 0    | 3944153       | 3944160           | 3951330         | 3963071         | 3926665         | 3945610         | 3948350\n",
       "0    | 1    | 3978070       | 3978090           | 3957888         | 3966510         | 3978006         | 3943077         | 3962123\n",
       "0    | 2    | 4096929       | 4096939           | 4090862         | 3971573         | 3979952         | 3992690         | 3957772\n",
       "0    | 3    | 4119040       | 4119051           | 4111920         | 4102501         | 3983049         | 3992425         | 4005190\n",
       "0    | 4    | 4063170       | 4063186           | 4077552         | 4122303         | 4112638         | 3994047         | 4003448\n",
       "0    | 5    | 4056858       | 4056872           | 4064653         | 4087713         | 4132210         | 4123408         | 4004858\n",
       "0    | 6    | 4066381       | 4066412           | 4073013         | 4074979         | 4097780         | 4143094         | 4134352\n",
       "0    | 7    | 4030579       | 4030594           | 4043047         | 4083240         | 4084964         | 4108615         | 4154000\n",
       "0    | 8    | 4046486       | 4046497           | 4025604         | 4053206         | 4093213         | 4095827         | 4119524\n",
       "0    | 9    | 4148353       | 4148369           | 4125415         | 4035769         | 4063193         | 4104133         | 4106832\n",
       "... (296 rows omitted)"
      ]
     },
     "execution_count": 29,
     "metadata": {},
     "output_type": "execute_result"
    }
   ],
   "source": [
    "full = Table.read_table('nc-est2014-agesex-res.csv')\n",
    "full"
   ]
  },
  {
   "cell_type": "code",
   "execution_count": 30,
   "metadata": {},
   "outputs": [
    {
     "data": {
      "text/html": [
       "<table border=\"1\" class=\"dataframe\">\n",
       "    <thead>\n",
       "        <tr>\n",
       "            <th>SEX</th> <th>AGE</th> <th>CENSUS2010POP</th> <th>POPESTIMATE2014</th>\n",
       "        </tr>\n",
       "    </thead>\n",
       "    <tbody>\n",
       "        <tr>\n",
       "            <td>0   </td> <td>0   </td> <td>3944153      </td> <td>3948350        </td>\n",
       "        </tr>\n",
       "        <tr>\n",
       "            <td>0   </td> <td>1   </td> <td>3978070      </td> <td>3962123        </td>\n",
       "        </tr>\n",
       "        <tr>\n",
       "            <td>0   </td> <td>2   </td> <td>4096929      </td> <td>3957772        </td>\n",
       "        </tr>\n",
       "        <tr>\n",
       "            <td>0   </td> <td>3   </td> <td>4119040      </td> <td>4005190        </td>\n",
       "        </tr>\n",
       "    </tbody>\n",
       "</table>\n",
       "<p>... (302 rows omitted)</p>"
      ],
      "text/plain": [
       "<IPython.core.display.HTML object>"
      ]
     },
     "metadata": {},
     "output_type": "display_data"
    }
   ],
   "source": [
    "#Lets simpify our table to have sex,age,census2010pop,popestimate2014\n",
    "partial = full.select('SEX', 'AGE', 'CENSUS2010POP', 'POPESTIMATE2014')\n",
    "partial.show(4)"
   ]
  },
  {
   "cell_type": "code",
   "execution_count": 31,
   "metadata": {},
   "outputs": [
    {
     "data": {
      "text/html": [
       "<table border=\"1\" class=\"dataframe\">\n",
       "    <thead>\n",
       "        <tr>\n",
       "            <th>SEX</th> <th>AGE</th> <th>2010</th> <th>2014</th>\n",
       "        </tr>\n",
       "    </thead>\n",
       "    <tbody>\n",
       "        <tr>\n",
       "            <td>0   </td> <td>0   </td> <td>3944153</td> <td>3948350</td>\n",
       "        </tr>\n",
       "        <tr>\n",
       "            <td>0   </td> <td>1   </td> <td>3978070</td> <td>3962123</td>\n",
       "        </tr>\n",
       "        <tr>\n",
       "            <td>0   </td> <td>2   </td> <td>4096929</td> <td>3957772</td>\n",
       "        </tr>\n",
       "        <tr>\n",
       "            <td>0   </td> <td>3   </td> <td>4119040</td> <td>4005190</td>\n",
       "        </tr>\n",
       "    </tbody>\n",
       "</table>\n",
       "<p>... (302 rows omitted)</p>"
      ],
      "text/plain": [
       "<IPython.core.display.HTML object>"
      ]
     },
     "metadata": {},
     "output_type": "display_data"
    }
   ],
   "source": [
    "#Simplify the labels to be more readable\n",
    "\n",
    "simple = partial.relabeled(2, '2010').relabeled(3, '2014')\n",
    "#simple.show(4)"
   ]
  },
  {
   "cell_type": "code",
   "execution_count": 32,
   "metadata": {},
   "outputs": [
    {
     "data": {
      "text/html": [
       "<table border=\"1\" class=\"dataframe\">\n",
       "    <thead>\n",
       "        <tr>\n",
       "            <th>SEX</th> <th>AGE</th> <th>2010</th> <th>2014</th>\n",
       "        </tr>\n",
       "    </thead>\n",
       "    <tbody>\n",
       "        <tr>\n",
       "            <td>0   </td> <td>0   </td> <td>3944153</td> <td>3948350</td>\n",
       "        </tr>\n",
       "        <tr>\n",
       "            <td>1   </td> <td>0   </td> <td>2014276</td> <td>2017857</td>\n",
       "        </tr>\n",
       "        <tr>\n",
       "            <td>2   </td> <td>0   </td> <td>1929877</td> <td>1930493</td>\n",
       "        </tr>\n",
       "        <tr>\n",
       "            <td>0   </td> <td>1   </td> <td>3978070</td> <td>3962123</td>\n",
       "        </tr>\n",
       "        <tr>\n",
       "            <td>1   </td> <td>1   </td> <td>2030853</td> <td>2023253</td>\n",
       "        </tr>\n",
       "        <tr>\n",
       "            <td>2   </td> <td>1   </td> <td>1947217</td> <td>1938870</td>\n",
       "        </tr>\n",
       "        <tr>\n",
       "            <td>0   </td> <td>2   </td> <td>4096929</td> <td>3957772</td>\n",
       "        </tr>\n",
       "        <tr>\n",
       "            <td>1   </td> <td>2   </td> <td>2092198</td> <td>2022502</td>\n",
       "        </tr>\n",
       "        <tr>\n",
       "            <td>2   </td> <td>2   </td> <td>2004731</td> <td>1935270</td>\n",
       "        </tr>\n",
       "        <tr>\n",
       "            <td>0   </td> <td>3   </td> <td>4119040</td> <td>4005190</td>\n",
       "        </tr>\n",
       "    </tbody>\n",
       "</table>\n",
       "<p>... (296 rows omitted)</p>"
      ],
      "text/plain": [
       "SEX  | AGE  | 2010    | 2014\n",
       "0    | 0    | 3944153 | 3948350\n",
       "1    | 0    | 2014276 | 2017857\n",
       "2    | 0    | 1929877 | 1930493\n",
       "0    | 1    | 3978070 | 3962123\n",
       "1    | 1    | 2030853 | 2023253\n",
       "2    | 1    | 1947217 | 1938870\n",
       "0    | 2    | 4096929 | 3957772\n",
       "1    | 2    | 2092198 | 2022502\n",
       "2    | 2    | 2004731 | 1935270\n",
       "0    | 3    | 4119040 | 4005190\n",
       "... (296 rows omitted)"
      ]
     },
     "execution_count": 32,
     "metadata": {},
     "output_type": "execute_result"
    }
   ],
   "source": [
    "# its known that in general there are more women then men\n",
    "# lets check this fact in the table\n",
    "simple.sort('AGE')"
   ]
  },
  {
   "cell_type": "code",
   "execution_count": null,
   "metadata": {},
   "outputs": [],
   "source": [
    "# NOtice that there are slightly more boy infants then girl infants"
   ]
  },
  {
   "cell_type": "code",
   "execution_count": 33,
   "metadata": {},
   "outputs": [
    {
     "data": {
      "text/html": [
       "<table border=\"1\" class=\"dataframe\">\n",
       "    <thead>\n",
       "        <tr>\n",
       "            <th>SEX</th> <th>AGE</th> <th>2010</th> <th>2014</th>\n",
       "        </tr>\n",
       "    </thead>\n",
       "    <tbody>\n",
       "        <tr>\n",
       "            <td>0   </td> <td>999 </td> <td>308745538</td> <td>318857056</td>\n",
       "        </tr>\n",
       "        <tr>\n",
       "            <td>1   </td> <td>999 </td> <td>151781326</td> <td>156936487</td>\n",
       "        </tr>\n",
       "        <tr>\n",
       "            <td>2   </td> <td>999 </td> <td>156964212</td> <td>161920569</td>\n",
       "        </tr>\n",
       "        <tr>\n",
       "            <td>0   </td> <td>100 </td> <td>53364    </td> <td>72197    </td>\n",
       "        </tr>\n",
       "        <tr>\n",
       "            <td>1   </td> <td>100 </td> <td>9162     </td> <td>13729    </td>\n",
       "        </tr>\n",
       "        <tr>\n",
       "            <td>2   </td> <td>100 </td> <td>44202    </td> <td>58468    </td>\n",
       "        </tr>\n",
       "        <tr>\n",
       "            <td>0   </td> <td>99  </td> <td>32266    </td> <td>41828    </td>\n",
       "        </tr>\n",
       "        <tr>\n",
       "            <td>1   </td> <td>99  </td> <td>6073     </td> <td>9037     </td>\n",
       "        </tr>\n",
       "        <tr>\n",
       "            <td>2   </td> <td>99  </td> <td>26193    </td> <td>32791    </td>\n",
       "        </tr>\n",
       "        <tr>\n",
       "            <td>0   </td> <td>98  </td> <td>45900    </td> <td>60185    </td>\n",
       "        </tr>\n",
       "    </tbody>\n",
       "</table>\n",
       "<p>... (296 rows omitted)</p>"
      ],
      "text/plain": [
       "SEX  | AGE  | 2010      | 2014\n",
       "0    | 999  | 308745538 | 318857056\n",
       "1    | 999  | 151781326 | 156936487\n",
       "2    | 999  | 156964212 | 161920569\n",
       "0    | 100  | 53364     | 72197\n",
       "1    | 100  | 9162      | 13729\n",
       "2    | 100  | 44202     | 58468\n",
       "0    | 99   | 32266     | 41828\n",
       "1    | 99   | 6073      | 9037\n",
       "2    | 99   | 26193     | 32791\n",
       "0    | 98   | 45900     | 60185\n",
       "... (296 rows omitted)"
      ]
     },
     "execution_count": 33,
     "metadata": {},
     "output_type": "execute_result"
    }
   ],
   "source": [
    "#Here we see that 999 represents all ages \n",
    "#So the row with sex =0 and age = 99 is the total population of the usa\n",
    "\n",
    "simple.sort('AGE', descending=True)"
   ]
  },
  {
   "cell_type": "code",
   "execution_count": 38,
   "metadata": {},
   "outputs": [
    {
     "data": {
      "text/html": [
       "<table border=\"1\" class=\"dataframe\">\n",
       "    <thead>\n",
       "        <tr>\n",
       "            <th>SEX</th> <th>AGE</th> <th>2010</th> <th>2014</th>\n",
       "        </tr>\n",
       "    </thead>\n",
       "    <tbody>\n",
       "        <tr>\n",
       "            <td>0   </td> <td>0   </td> <td>3944153</td> <td>3948350</td>\n",
       "        </tr>\n",
       "        <tr>\n",
       "            <td>0   </td> <td>1   </td> <td>3978070</td> <td>3962123</td>\n",
       "        </tr>\n",
       "        <tr>\n",
       "            <td>0   </td> <td>2   </td> <td>4096929</td> <td>3957772</td>\n",
       "        </tr>\n",
       "        <tr>\n",
       "            <td>0   </td> <td>3   </td> <td>4119040</td> <td>4005190</td>\n",
       "        </tr>\n",
       "        <tr>\n",
       "            <td>0   </td> <td>4   </td> <td>4063170</td> <td>4003448</td>\n",
       "        </tr>\n",
       "        <tr>\n",
       "            <td>0   </td> <td>5   </td> <td>4056858</td> <td>4004858</td>\n",
       "        </tr>\n",
       "        <tr>\n",
       "            <td>0   </td> <td>6   </td> <td>4066381</td> <td>4134352</td>\n",
       "        </tr>\n",
       "        <tr>\n",
       "            <td>0   </td> <td>7   </td> <td>4030579</td> <td>4154000</td>\n",
       "        </tr>\n",
       "        <tr>\n",
       "            <td>0   </td> <td>8   </td> <td>4046486</td> <td>4119524</td>\n",
       "        </tr>\n",
       "        <tr>\n",
       "            <td>0   </td> <td>9   </td> <td>4148353</td> <td>4106832</td>\n",
       "        </tr>\n",
       "    </tbody>\n",
       "</table>\n",
       "<p>... (293 rows omitted)</p>"
      ],
      "text/plain": [
       "SEX  | AGE  | 2010    | 2014\n",
       "0    | 0    | 3944153 | 3948350\n",
       "0    | 1    | 3978070 | 3962123\n",
       "0    | 2    | 4096929 | 3957772\n",
       "0    | 3    | 4119040 | 4005190\n",
       "0    | 4    | 4063170 | 4003448\n",
       "0    | 5    | 4056858 | 4004858\n",
       "0    | 6    | 4066381 | 4134352\n",
       "0    | 7    | 4030579 | 4154000\n",
       "0    | 8    | 4046486 | 4119524\n",
       "0    | 9    | 4148353 | 4106832\n",
       "... (293 rows omitted)"
      ]
     },
     "execution_count": 38,
     "metadata": {},
     "output_type": "execute_result"
    }
   ],
   "source": [
    "#Lets find the ratio of women to men and try and find out why\n",
    "#there is more women then men\n",
    "\n",
    "#lets remove the total population rows\n",
    "removetotals=simple.where('AGE',are.below(999))\n",
    "removetotals"
   ]
  },
  {
   "cell_type": "code",
   "execution_count": null,
   "metadata": {},
   "outputs": [],
   "source": []
  },
  {
   "cell_type": "code",
   "execution_count": 57,
   "metadata": {},
   "outputs": [
    {
     "data": {
      "text/html": [
       "<table border=\"1\" class=\"dataframe\">\n",
       "    <thead>\n",
       "        <tr>\n",
       "            <th>Age</th> <th>Ratio</th>\n",
       "        </tr>\n",
       "    </thead>\n",
       "    <tbody>\n",
       "        <tr>\n",
       "            <td>100 </td> <td>4.25872</td>\n",
       "        </tr>\n",
       "        <tr>\n",
       "            <td>99  </td> <td>3.62853</td>\n",
       "        </tr>\n",
       "        <tr>\n",
       "            <td>98  </td> <td>3.40948</td>\n",
       "        </tr>\n",
       "        <tr>\n",
       "            <td>97  </td> <td>3.08863</td>\n",
       "        </tr>\n",
       "        <tr>\n",
       "            <td>96  </td> <td>2.87975</td>\n",
       "        </tr>\n",
       "        <tr>\n",
       "            <td>95  </td> <td>2.66906</td>\n",
       "        </tr>\n",
       "        <tr>\n",
       "            <td>94  </td> <td>2.51931</td>\n",
       "        </tr>\n",
       "        <tr>\n",
       "            <td>93  </td> <td>2.33023</td>\n",
       "        </tr>\n",
       "        <tr>\n",
       "            <td>92  </td> <td>2.22674</td>\n",
       "        </tr>\n",
       "        <tr>\n",
       "            <td>91  </td> <td>2.09202</td>\n",
       "        </tr>\n",
       "    </tbody>\n",
       "</table>\n",
       "<p>... (91 rows omitted)</p>"
      ],
      "text/plain": [
       "Age  | Ratio\n",
       "100  | 4.25872\n",
       "99   | 3.62853\n",
       "98   | 3.40948\n",
       "97   | 3.08863\n",
       "96   | 2.87975\n",
       "95   | 2.66906\n",
       "94   | 2.51931\n",
       "93   | 2.33023\n",
       "92   | 2.22674\n",
       "91   | 2.09202\n",
       "... (91 rows omitted)"
      ]
     },
     "execution_count": 57,
     "metadata": {},
     "output_type": "execute_result"
    }
   ],
   "source": [
    "# Find the ratio of women to men (number of women / number of men)\n",
    "\n",
    "numf=removetotals.where('SEX',2).column('2014')\n",
    "numm=removetotals.where('SEX',1).column('2014')\n",
    "\n",
    "\n",
    "ratio=numf/numm\n",
    "\n",
    "Table().with_column('Age',np.arange(0,101)).with_column('Ratio',ratio).sort('Age',descending =True)"
   ]
  },
  {
   "cell_type": "code",
   "execution_count": 58,
   "metadata": {},
   "outputs": [
    {
     "data": {
      "image/png": "[encoded data removed]",
      "text/plain": [
       "<Figure size 432x432 with 1 Axes>"
      ]
     },
     "metadata": {},
     "output_type": "display_data"
    }
   ],
   "source": [
    "# There are more women then men bc women in general live longer \n",
    "# We can see that by using the following plot\n",
    "ratioo=Table().with_column('Age',np.arange(0,101)).with_column('Ratio',ratio).sort('Age',descending =True)\n",
    "ratioo.plot('Age','Ratio')"
   ]
  },
  {
   "cell_type": "markdown",
   "metadata": {},
   "source": [
    "## Visualization ##"
   ]
  },
  {
   "cell_type": "code",
   "execution_count": 34,
   "metadata": {},
   "outputs": [],
   "source": [
    "no_999 = simple.where('AGE', are.below(999))\n",
    "everyone = no_999.where('SEX', 0).drop('SEX')"
   ]
  },
  {
   "cell_type": "code",
   "execution_count": 35,
   "metadata": {},
   "outputs": [
    {
     "data": {
      "text/html": [
       "<table border=\"1\" class=\"dataframe\">\n",
       "    <thead>\n",
       "        <tr>\n",
       "            <th>AGE</th> <th>2010</th> <th>2014</th>\n",
       "        </tr>\n",
       "    </thead>\n",
       "    <tbody>\n",
       "        <tr>\n",
       "            <td>0   </td> <td>3944153</td> <td>3948350</td>\n",
       "        </tr>\n",
       "        <tr>\n",
       "            <td>1   </td> <td>3978070</td> <td>3962123</td>\n",
       "        </tr>\n",
       "        <tr>\n",
       "            <td>2   </td> <td>4096929</td> <td>3957772</td>\n",
       "        </tr>\n",
       "        <tr>\n",
       "            <td>3   </td> <td>4119040</td> <td>4005190</td>\n",
       "        </tr>\n",
       "        <tr>\n",
       "            <td>4   </td> <td>4063170</td> <td>4003448</td>\n",
       "        </tr>\n",
       "        <tr>\n",
       "            <td>5   </td> <td>4056858</td> <td>4004858</td>\n",
       "        </tr>\n",
       "        <tr>\n",
       "            <td>6   </td> <td>4066381</td> <td>4134352</td>\n",
       "        </tr>\n",
       "        <tr>\n",
       "            <td>7   </td> <td>4030579</td> <td>4154000</td>\n",
       "        </tr>\n",
       "        <tr>\n",
       "            <td>8   </td> <td>4046486</td> <td>4119524</td>\n",
       "        </tr>\n",
       "        <tr>\n",
       "            <td>9   </td> <td>4148353</td> <td>4106832</td>\n",
       "        </tr>\n",
       "    </tbody>\n",
       "</table>\n",
       "<p>... (91 rows omitted)</p>"
      ],
      "text/plain": [
       "AGE  | 2010    | 2014\n",
       "0    | 3944153 | 3948350\n",
       "1    | 3978070 | 3962123\n",
       "2    | 4096929 | 3957772\n",
       "3    | 4119040 | 4005190\n",
       "4    | 4063170 | 4003448\n",
       "5    | 4056858 | 4004858\n",
       "6    | 4066381 | 4134352\n",
       "7    | 4030579 | 4154000\n",
       "8    | 4046486 | 4119524\n",
       "9    | 4148353 | 4106832\n",
       "... (91 rows omitted)"
      ]
     },
     "execution_count": 35,
     "metadata": {},
     "output_type": "execute_result"
    }
   ],
   "source": [
    "everyone"
   ]
  },
  {
   "cell_type": "code",
   "execution_count": 37,
   "metadata": {},
   "outputs": [
    {
     "data": {
      "image/png": "[encoded data removed]",
      "text/plain": [
       "<Figure size 432x432 with 1 Axes>"
      ]
     },
     "metadata": {},
     "output_type": "display_data"
    }
   ],
   "source": [
    "everyone.plot('AGE', '2010')\n"
   ]
  },
  {
   "cell_type": "code",
   "execution_count": null,
   "metadata": {},
   "outputs": [],
   "source": []
  }
 ],
 "metadata": {
  "anaconda-cloud": {},
  "kernelspec": {
   "display_name": "Python 3",
   "language": "python",
   "name": "python3"
  },
  "language_info": {
   "codemirror_mode": {
    "name": "ipython",
    "version": 3
   },
   "file_extension": ".py",
   "mimetype": "text/x-python",
   "name": "python",
   "nbconvert_exporter": "python",
   "pygments_lexer": "ipython3",
   "version": "3.8.5"
  }
 },
 "nbformat": 4,
 "nbformat_minor": 1
}
